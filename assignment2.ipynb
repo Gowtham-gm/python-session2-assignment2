{
 "cells": [
  {
   "cell_type": "markdown",
   "metadata": {},
   "source": [
    "#task1\n"
   ]
  },
  {
   "cell_type": "code",
   "execution_count": 30,
   "metadata": {},
   "outputs": [
    {
     "name": "stdout",
     "output_type": "stream",
     "text": [
      "The sum of the items in the list is (23)\n"
     ]
    }
   ],
   "source": [
    "#Task1:\n",
    "#1.1 write a python  program to implement your own myreduce() function which works exactly like python's built-in-function reduce()\n",
    "def myreduce(func,sequence):\n",
    "    result=sequence[0]\n",
    "    for x in sequence[1:]:\n",
    "        result=func(result,x)\n",
    "    return result\n",
    "\n",
    "list=[5,4,6,8]\n",
    "print('The sum of the items in the list is (%d)'%(myreduce(lambda x,y:x+y,list))) "
   ]
  },
  {
   "cell_type": "code",
   "execution_count": 28,
   "metadata": {},
   "outputs": [
    {
     "name": "stdout",
     "output_type": "stream",
     "text": [
      "The negative numbers in the given list are [-3, -1, -6]\n"
     ]
    }
   ],
   "source": [
    "#1.2 write a python to implement your own myflter() function which works exactly like pyhon's built-in-function filter()\n",
    "def myfilter(func,sequence):\n",
    "    result=[]\n",
    "    for x in sequence:\n",
    "        if func(x):\n",
    "            result.append(x)\n",
    "    return result\n",
    "\n",
    "def isnegative(x):\n",
    "    if(x>=0):\n",
    "        return False\n",
    "    else:\n",
    "        return True\n",
    "    \n",
    "list=[1,2,-3,-1,3,-6]\n",
    "print(\"The negative numbers in the given list are %s\" %(myfilter(isnegative,list)))\n",
    "        \n",
    "    "
   ]
  },
  {
   "cell_type": "code",
   "execution_count": 5,
   "metadata": {},
   "outputs": [
    {
     "name": "stdout",
     "output_type": "stream",
     "text": [
      "['A', 'C', 'A', 'D', 'G', 'I', 'L', 'D']\n",
      "['x', 'xx', 'xxx', 'xxxx', 'y', 'yy', 'yyy', 'yyyy', 'z', 'zz', 'zzz', 'zzzz']\n",
      "['x', 'y', 'z', 'xx', 'yy', 'zz', 'xxx', 'yyy', 'zzz', 'xxxx', 'yyyy', 'zzzz']\n",
      "[[2], [3], [4], [3], [4], [5], [4], [5], [6]]\n",
      "[[2, 3, 4, 5], [3, 4, 5, 6], [4, 5, 6, 7], [5, 6, 7, 8], [6, 7, 8, 9]]\n",
      "[(1, 1), (2, 1), (3, 1), (1, 2), (2, 2), (3, 2), (1, 3), (2, 3), (3, 3)]\n"
     ]
    }
   ],
   "source": [
    "#2 implement List comprehensions to produce the following Lists.\n",
    "#write list comprehensions to produce the following Lists\n",
    "#['A', 'C', 'A', 'D', 'G', 'I', 'L', 'D']\n",
    "#['x', 'xx', 'xxx', 'xxxx', 'y', 'yy', 'yyy', 'yyyy', 'z', 'zz', 'zzz', 'zzzz']\n",
    "#['x', 'y', 'z', 'xx', 'yy', 'zz', 'xxx', 'yyy', 'zzz', 'xxxx', 'yyyy', 'zzzz']\n",
    "#[[2], [3], [4], [3], [4], [5], [4], [5], [6]]\n",
    "#[[2, 3, 4, 5], [3, 4, 5, 6], [4, 5, 6, 7], [5, 6, 7, 8], [6, 7, 8, 9]]\n",
    "#[(1, 1), (2, 1), (3, 1), (1, 2), (2, 2), (3, 2), (1, 3), (2, 3), (3, 3)]\n",
    "\n",
    "input_word='ACADGILD'\n",
    "result=[alphabet for alphabet in input_word]\n",
    "print (str(result))\n",
    "\n",
    "input_list=['x','y','z']\n",
    "result=[i*num for i in input_list for num in range(1,5)]\n",
    "print(str(result))\n",
    "\n",
    "input_list=['x','y','z']\n",
    "result=[x*num for num in range(1,5) for x in input_list]\n",
    "print(str(result))\n",
    "\n",
    "input_list=[2,3,4]\n",
    "result=[[x+num] for x in input_list for num in range(0,3)]\n",
    "print(str(result))\n",
    "\n",
    "input_list=[2,3,4,5]\n",
    "result=[[x+num for x in input_list] for num in range(0,5)]\n",
    "print(str(result))\n",
    "\n",
    "input_list=[1,2,3]\n",
    "result=[(x,y) for y in input_list for x in input_list]\n",
    "print(str(result))"
   ]
  },
  {
   "cell_type": "code",
   "execution_count": 3,
   "metadata": {},
   "outputs": [
    {
     "name": "stdout",
     "output_type": "stream",
     "text": [
      "enter a list of words:gowtham,acadgild,mobile\n",
      "The longest word is acadgild\n"
     ]
    }
   ],
   "source": [
    "#3 Implement a function longestWord() that takes a list of words and returns the longest one.\n",
    "def LongestWord(words):\n",
    "    longest=0\n",
    "    longest_word=[]\n",
    "    for x in words:\n",
    "        if len(x)>longest:\n",
    "            longest=len(x)\n",
    "            longest_word=x\n",
    "    return longest_word\n",
    "\n",
    "input_words=input('enter a list of words:')\n",
    "input_words1=input_words.split(',')\n",
    "result=LongestWord(input_words1)\n",
    "print('The longest word is %s'%(result))\n",
    "\n"
   ]
  },
  {
   "cell_type": "markdown",
   "metadata": {},
   "source": [
    "#Task2"
   ]
  },
  {
   "cell_type": "code",
   "execution_count": 12,
   "metadata": {},
   "outputs": [
    {
     "name": "stdout",
     "output_type": "stream",
     "text": [
      "The area of Triangle is 2.904738\n"
     ]
    }
   ],
   "source": [
    "#Task2\n",
    "#1.1 write a python program(with class concepts) to find the area of the triangle using the below formula\n",
    "#area=(s*(s-a)*(s-b)*(s-c))**0.5\n",
    "#function to take the length of the sides of triangle from user should be defined in the parent class\n",
    "#and function  to calculate the area should be defined in subclass\n",
    "\n",
    "class polygon:\n",
    "    def __init__(self,input_sides):\n",
    "        self.n=input_sides\n",
    "        \n",
    "class triangle(polygon):\n",
    "    def __init__(self,*args):\n",
    "        super(triangle,self).__init__(*args)\n",
    "        \n",
    "        \n",
    "    def area(self):\n",
    "        a,b,c=self.n\n",
    "        s=(a+b+c)/2\n",
    "        a=(s*(s-a)*(s-b)*(s-c))**0.5\n",
    "        return a\n",
    "       \n",
    "    \n",
    "x= triangle([3,2,4])\n",
    "print('The area of Triangle is %f'%(x.area()))"
   ]
  },
  {
   "cell_type": "code",
   "execution_count": 13,
   "metadata": {},
   "outputs": [
    {
     "name": "stdout",
     "output_type": "stream",
     "text": [
      "enter a input words:gowtham,intel,webcam,USB\n",
      "enter a integer value:4\n",
      "The words which are larger than integer n value are ['gowtham', 'intel', 'webcam']\n"
     ]
    }
   ],
   "source": [
    "#1.2 write a pyhon program using function concept that maps list of word\n",
    "#and an integer n returns the list of words that are longer than n\n",
    "def filter_long_word(words,n):\n",
    "    listword=[]\n",
    "    for i in words:\n",
    "        if len(i)>n:\n",
    "            listword.append(i)\n",
    "    return listword\n",
    "\n",
    "input_words=input('enter a input words:')\n",
    "input_words1=input_words.split(\",\")\n",
    "number=int(input('enter a integer value:'))\n",
    "result=filter_long_word(input_words1,number)\n",
    "print('The words which are larger than integer n value are %s'%(result))\n",
    "\n"
   ]
  },
  {
   "cell_type": "code",
   "execution_count": 6,
   "metadata": {},
   "outputs": [
    {
     "name": "stdout",
     "output_type": "stream",
     "text": [
      "enter a input words:gowtham,google,acadgild,bird\n",
      "The length of each of the input words is [7, 6, 8, 4]\n"
     ]
    }
   ],
   "source": [
    "#2.1 write a python program using function concept that maps list of words into a list of integers\n",
    "#representing the length of the corresponding words\n",
    "def map_word_to_len(words):\n",
    "    length=[]\n",
    "    for i in words:\n",
    "        length.append(len(i))\n",
    "    return length\n",
    "    \n",
    "input_words=input('enter a input words:')\n",
    "input_words1=input_words.split(\",\")\n",
    "result=map_word_to_len(input_words1)\n",
    "print('The length of each of the input words is %s'%(result))"
   ]
  },
  {
   "cell_type": "code",
   "execution_count": 3,
   "metadata": {},
   "outputs": [
    {
     "name": "stdout",
     "output_type": "stream",
     "text": [
      "enter a input character:d\n",
      "False\n"
     ]
    }
   ],
   "source": [
    "#2.2 write a python function which takes a character (i.e. a string of length 1)\n",
    "#and returns True if it is a vowel,False otherwise.\n",
    "def is_vowel(char):\n",
    "    vowels=('a','e','i','o','u')\n",
    "    if char in vowels:\n",
    "        return True\n",
    "    return False\n",
    "\n",
    "char=input('enter a input character:')\n",
    "print(is_vowel(char))"
   ]
  },
  {
   "cell_type": "code",
   "execution_count": null,
   "metadata": {},
   "outputs": [],
   "source": []
  }
 ],
 "metadata": {
  "kernelspec": {
   "display_name": "Python 3",
   "language": "python",
   "name": "python3"
  },
  "language_info": {
   "codemirror_mode": {
    "name": "ipython",
    "version": 3
   },
   "file_extension": ".py",
   "mimetype": "text/x-python",
   "name": "python",
   "nbconvert_exporter": "python",
   "pygments_lexer": "ipython3",
   "version": "3.6.5"
  }
 },
 "nbformat": 4,
 "nbformat_minor": 2
}
